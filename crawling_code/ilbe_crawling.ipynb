{
 "cells": [
  {
   "cell_type": "code",
   "execution_count": 1,
   "id": "80b5d693-3404-44d0-a816-fa9fc19233d4",
   "metadata": {},
   "outputs": [],
   "source": [
    "from selenium import webdriver\n",
    "import time\n",
    "import requests\n",
    "from bs4 import BeautifulSoup\n",
    "import openpyxl"
   ]
  },
  {
   "cell_type": "code",
   "execution_count": 2,
   "id": "209efecf-1257-418a-a31d-4f594dfa0e5f",
   "metadata": {},
   "outputs": [],
   "source": [
    "import time\n",
    "import random"
   ]
  },
  {
   "cell_type": "code",
   "execution_count": 3,
   "id": "c1d8122b-342a-49e8-b365-8bc433b338bf",
   "metadata": {},
   "outputs": [
    {
     "name": "stdout",
     "output_type": "stream",
     "text": [
      "조사중인 정치인:문재인\n",
      "페이지:  1\n",
      "페이지:  2\n",
      "페이지:  3\n",
      "페이지:  4\n",
      "조사중인 정치인:윤석열\n",
      "페이지:  1\n",
      "페이지:  2\n",
      "페이지:  3\n",
      "페이지:  4\n",
      "조사중인 정치인:안철수\n",
      "페이지:  1\n",
      "페이지:  2\n",
      "페이지:  3\n",
      "페이지:  4\n",
      "조사중인 정치인:이재명\n",
      "페이지:  1\n",
      "페이지:  2\n",
      "페이지:  3\n",
      "페이지:  4\n",
      "조사중인 정치인:이준석\n",
      "페이지:  1\n",
      "페이지:  2\n",
      "페이지:  3\n",
      "페이지:  4\n"
     ]
    }
   ],
   "source": [
    "# 추가로 조사하고 싶은 정치인은 해당 배열에 추가하면 된다.\n",
    "politicians = [\"문재인\",\"윤석열\",\"안철수\",\"이재명\",\"이준석\"]\n",
    "\n",
    "for politician in politicians:\n",
    "    filename = \"analysis_ilbe_\"+politician+\".txt\"\n",
    "    f = open(filename,\"w\",encoding=\"utf-8\")\n",
    "    print(\"조사중인 정치인:\" + politician)\n",
    "    # Workbook 생성 \n",
    "    #wb = openpyxl.Workbook()\n",
    "    \n",
    "    # 3. Sheet 활성 \n",
    "    #list_index = wb.active\n",
    "    \n",
    "    # 4. 데이터프레임 내 header(변수명)생성 \n",
    "    #list_index.append([\"제목\"])\n",
    "    # 출처: https://datalabbit.tistory.com/24 [간토끼 DataMining Lab]\n",
    "    k=1\n",
    "    \n",
    "    url = \"https://www.ilbe.com/search?docType=doc&searchType=title_content&page=1&q=\" + politician\n",
    "    \n",
    "    for num in range(1,5): #100 한페이지 10개\n",
    "\n",
    "        try:\n",
    "            params = {'id':'','page':f'{num}'}\n",
    "            headers = {'User-Agent':\"user-agent=Mozilla/5.0 (Windows NT 10.0; Win64; x64) AppleWebKit/537.36 (KHTML, like Gecko) Chrome/100.0.4896.75 Safari/537.36\"}\n",
    "            resp = requests.get(url, params=params,headers=headers)\n",
    "            soup=BeautifulSoup(resp.content,'html.parser')\n",
    "            contents = soup.find(\"div\",attrs={\"class\":\"search-body\"}).find(\"div\",attrs={\"class\":\"search-list\"}).find_all('li')\n",
    "            page_size = len(contents)\n",
    "            for i in contents:\n",
    "                line = []\n",
    "                try:\n",
    "                    new_dict={}\n",
    "\n",
    "                    # 제목 추출\n",
    "                    title_tag=i.find(\"a\",attrs={\"class\":\"title\"})\n",
    "                    title=title_tag.text\n",
    "                    title=title[title.find(\"]\")+1:]\n",
    "                    title = title.replace(\"\\\"\", \"\")\n",
    "                    title = title.replace(\"\\'\", \"\")\n",
    "                    title = title + \"\\n\"\n",
    "                    f.write(title)\n",
    "\n",
    "                except:\n",
    "                    continue\n",
    "            print(\"페이지: \",k)\n",
    "            k += 1\n",
    "        except:\n",
    "            continue\n",
    "        resp.close()\n",
    "        \n",
    "    f.close()       "
   ]
  },
  {
   "cell_type": "code",
   "execution_count": 4,
   "id": "37b1c6de-ce2f-40b3-916d-436dab09dc00",
   "metadata": {},
   "outputs": [
    {
     "name": "stdout",
     "output_type": "stream",
     "text": [
      "end\n"
     ]
    }
   ],
   "source": [
    "print(\"end\")"
   ]
  }
 ],
 "metadata": {
  "kernelspec": {
   "display_name": "sns-selenium",
   "language": "python",
   "name": "conda"
  },
  "language_info": {
   "codemirror_mode": {
    "name": "ipython",
    "version": 3
   },
   "file_extension": ".py",
   "mimetype": "text/x-python",
   "name": "python",
   "nbconvert_exporter": "python",
   "pygments_lexer": "ipython3",
   "version": "3.10.4"
  }
 },
 "nbformat": 4,
 "nbformat_minor": 5
}
