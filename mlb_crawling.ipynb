{
 "cells": [
  {
   "cell_type": "code",
   "execution_count": 1,
   "id": "80b5d693-3404-44d0-a816-fa9fc19233d4",
   "metadata": {},
   "outputs": [],
   "source": [
    "from selenium import webdriver\n",
    "import time\n",
    "import requests\n",
    "from bs4 import BeautifulSoup\n",
    "import openpyxl"
   ]
  },
  {
   "cell_type": "code",
   "execution_count": 2,
   "id": "209efecf-1257-418a-a31d-4f594dfa0e5f",
   "metadata": {},
   "outputs": [],
   "source": [
    "import time\n",
    "import random"
   ]
  },
  {
   "cell_type": "code",
   "execution_count": 3,
   "id": "c1d8122b-342a-49e8-b365-8bc433b338bf",
   "metadata": {},
   "outputs": [
    {
     "name": "stdout",
     "output_type": "stream",
     "text": [
      "조사중인 정치인:문재인\n",
      "페이지:  1\n",
      "페이지:  2\n",
      "페이지:  3\n",
      "페이지:  4\n",
      "페이지:  5\n",
      "조사중인 정치인:윤석열\n",
      "페이지:  1\n",
      "페이지:  2\n",
      "페이지:  3\n",
      "페이지:  4\n",
      "페이지:  5\n",
      "조사중인 정치인:안철수\n",
      "페이지:  1\n",
      "페이지:  2\n",
      "페이지:  3\n",
      "페이지:  4\n",
      "페이지:  5\n",
      "조사중인 정치인:이재명\n",
      "페이지:  1\n",
      "페이지:  2\n",
      "페이지:  3\n",
      "페이지:  4\n",
      "페이지:  5\n",
      "조사중인 정치인:이준석\n",
      "페이지:  1\n",
      "페이지:  2\n",
      "페이지:  3\n",
      "페이지:  4\n",
      "페이지:  5\n"
     ]
    }
   ],
   "source": [
    "# 추가로 조사하고 싶은 정치인은 해당 배열에 추가하면 된다.\n",
    "politicians = [\"문재인\",\"윤석열\",\"안철수\",\"이재명\",\"이준석\"]\n",
    "\n",
    "for politician in politicians:\n",
    "    filename = \"analysis_mlb_\"+politician+\".txt\"\n",
    "    f = open(filename,\"w\",encoding=\"utf-8\")\n",
    "    print(\"조사중인 정치인:\" + politician)\n",
    "    # Workbook 생성 \n",
    "    #wb = openpyxl.Workbook()\n",
    "    \n",
    "    # 3. Sheet 활성 \n",
    "    #list_index = wb.active\n",
    "    \n",
    "    # 4. 데이터프레임 내 header(변수명)생성 \n",
    "    #list_index.append([\"제목\"])\n",
    "    # 출처: https://datalabbit.tistory.com/24 [간토끼 DataMining Lab]\n",
    "    k=1\n",
    "    \n",
    "    for num in range(1, 6): # 34 한페이지 30개\n",
    "        time.sleep(random.uniform(1,3))\n",
    "        try:\n",
    "            url = \"https://mlbpark.donga.com/mp/b.php?p=\" + str(30*(num-1) + 1) + \"&m=search&b=bullpen&query=\" + politician  + \"&select=sct&user=\"\n",
    "            resp = requests.get(url)\n",
    "            soup=BeautifulSoup(resp.content,'html.parser')\n",
    "            contents = soup.find(\"div\",attrs={\"class\":\"contents\"}).find(\"div\",attrs={\"class\":\"left_cont\"}).find(\"div\",attrs={\"class\":\"tbl_box\"}).find(\"table\",attrs={\"class\":\"tbl_type01\"}).find_all('tr')\n",
    "            page_size = len(contents)\n",
    "            for i in contents:\n",
    "                line = []\n",
    "                try:\n",
    "                    new_dict={}\n",
    "                    # 제목 추출\n",
    "                    title_tag=i.find(\"td\",attrs={\"class\":\"t_left\"}).find(\"div\",attrs={\"class\":\"tit\"})\n",
    "                    title=title_tag.text\n",
    "                    \n",
    "                    title = title[:title.rfind(\"[\")]\n",
    "                    \n",
    "                    title = title.replace(\"\\\"\", \"\")\n",
    "                    title = title.replace(\"\\'\", \"\")\n",
    "                    title = title + \"\\n\"\n",
    "                    f.write(title)\n",
    "                    #list_index.append([title])\n",
    "\n",
    "                except:\n",
    "                    continue\n",
    "            print(\"페이지: \",k)\n",
    "            k += 1\n",
    "        except:\n",
    "            continue\n",
    "        resp.close()\n",
    "    \n",
    "    #filename = \"analysis_mlb_\"+ politician + \".xlsx\"\n",
    "    #wb.save(filename)\n",
    "    f.close()               "
   ]
  },
  {
   "cell_type": "code",
   "execution_count": 4,
   "id": "37b1c6de-ce2f-40b3-916d-436dab09dc00",
   "metadata": {},
   "outputs": [
    {
     "name": "stdout",
     "output_type": "stream",
     "text": [
      "end\n"
     ]
    }
   ],
   "source": [
    "print(\"end\")"
   ]
  },
  {
   "cell_type": "code",
   "execution_count": null,
   "id": "9864aeb4-87e8-4be6-8a81-10d95f987f65",
   "metadata": {},
   "outputs": [],
   "source": []
  }
 ],
 "metadata": {
  "kernelspec": {
   "display_name": "sns-selenium",
   "language": "python",
   "name": "conda"
  },
  "language_info": {
   "codemirror_mode": {
    "name": "ipython",
    "version": 3
   },
   "file_extension": ".py",
   "mimetype": "text/x-python",
   "name": "python",
   "nbconvert_exporter": "python",
   "pygments_lexer": "ipython3",
   "version": "3.10.4"
  }
 },
 "nbformat": 4,
 "nbformat_minor": 5
}
