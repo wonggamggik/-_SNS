{
 "cells": [
  {
   "cell_type": "code",
   "execution_count": 1,
   "id": "754e6242-1b3c-4ce9-8677-c3ae81106a3f",
   "metadata": {},
   "outputs": [],
   "source": [
    "# 보배, 특정 키워드 입력하면 해당 키워드와 연관된 제목과 메인 글 크롤링하기"
   ]
  },
  {
   "cell_type": "code",
   "execution_count": 2,
   "id": "2314a1a2-8298-4773-a36c-cfef4ce5b799",
   "metadata": {},
   "outputs": [],
   "source": [
    "from selenium import webdriver\n",
    "from selenium.webdriver.common.by import By\n",
    "from selenium.webdriver.common.keys import Keys\n",
    "from selenium.webdriver.chrome.service import Service\n",
    "from webdriver_manager.chrome import ChromeDriverManager\n",
    "from time import sleep\n",
    "import time\n",
    "import random\n",
    "import requests\n",
    "from bs4 import BeautifulSoup\n",
    "import pandas as pd\n",
    "import openpyxl\n",
    "import urllib.request as req\n",
    "\n",
    "from selenium.webdriver.support.ui import WebDriverWait\n",
    "from selenium.webdriver.support import expected_conditions as EC"
   ]
  },
  {
   "cell_type": "code",
   "execution_count": 3,
   "id": "205229a6-564c-4773-a9af-c1e1b361ca35",
   "metadata": {},
   "outputs": [],
   "source": [
    "def set_chrome_driver():\n",
    "    chrome_options = webdriver.ChromeOptions()\n",
    "    driver = webdriver.Chrome(service=Service(ChromeDriverManager().install()), options=chrome_options)\n",
    "    return driver"
   ]
  },
  {
   "cell_type": "code",
   "execution_count": 4,
   "id": "419c8efa-d16b-4e07-a030-2b91b41b9b05",
   "metadata": {},
   "outputs": [
    {
     "name": "stdout",
     "output_type": "stream",
     "text": [
      "조사중인 정치인:문재인\n",
      "조사중인 정치인:윤석열\n",
      "조사중인 정치인:안철수\n",
      "error 10\n",
      "조사중인 정치인:이재명\n",
      "조사중인 정치인:이준석\n"
     ]
    }
   ],
   "source": [
    "# 추가로 조사하고 싶은 정치인은 해당 배열에 추가하면 된다.\n",
    "politicians = [\"문재인\",\"윤석열\",\"안철수\",\"이재명\",\"이준석\"]\n",
    "\n",
    "for politician in politicians:\n",
    "    filename = \"analysis_bobae_\"+politician+\".txt\"\n",
    "    f = open(filename,\"w\",encoding=\"utf-8\")\n",
    "    print(\"조사중인 정치인:\" + politician)\n",
    "    # Workbook 생성 \n",
    "    #wb = openpyxl.Workbook()\n",
    "    \n",
    "    # 3. Sheet 활성 \n",
    "    #list_index = wb.active\n",
    "    \n",
    "    # 4. 데이터프레임 내 header(변수명)생성 \n",
    "    #list_index.append([\"제목\"])\n",
    "    # 출처: https://datalabbit.tistory.com/24 [간토끼 DataMining Lab]\n",
    "    k=1\n",
    "    \n",
    "    # 드라이버 추출\n",
    "    chrome_options = webdriver.ChromeOptions()\n",
    "    s = Service(\"chromedriver.exe\")\n",
    "    driver = webdriver.Chrome(service=s, options=chrome_options)\n",
    "\n",
    "    # 해당 링크로 이동\n",
    "    driver.get(\"https://www.bobaedream.co.kr/search\")\n",
    "    \n",
    "    search_box = driver.find_element(By.NAME, \"keyword\")\n",
    "\n",
    "    # 검색어 입력 및 클릭\n",
    "    search_box.send_keys(politician)\n",
    "    search_box.send_keys(Keys.RETURN)\n",
    "\n",
    "    # 검색어 입력 후 게시글 목록으로 넘어가기\n",
    "    driver.find_element(By.XPATH, \"/html/body/div/div[3]/div[2]/div[5]/div[2]/a\").click()\n",
    "\n",
    "\n",
    "    # 1~11까지 긁고 나오고 다음 페이지로\n",
    "    for j in  range(1,15): # 100 한페이지 10개\n",
    "        for i in range(1,11):\n",
    "            try:\n",
    "                xpath = \"/html/body/div/div[3]/div[2]/div/ul/li[\"+str(i)+\"]/dl/dt/a\"\n",
    "\n",
    "                # 제목 긁기\n",
    "                try:\n",
    "                    title = driver.find_element(by=By.XPATH, value=xpath).text\n",
    "                except: print(error)\n",
    "\n",
    "                title = title.replace(\"\\\"\", \"\")\n",
    "                title = title.replace(\"\\'\", \"\")\n",
    "                title = title + \"\\n\"\n",
    "                f.write(title)\n",
    "                #list_index.append([title])\n",
    "            except:\n",
    "                print(\"error\",i)\n",
    "                continue\n",
    "        if j == 1:\n",
    "            driver.find_element(By.XPATH, \"/html/body/div/div[3]/div[2]/div/div[2]/a[5]\").click()\n",
    "        elif j >= 2 and j <= 5:\n",
    "            driver.find_element(By.XPATH, \"/html/body/div/div[3]/div[2]/div/div[2]/a[6]\").click()\n",
    "        else:\n",
    "            driver.find_element(By.XPATH, \"/html/body/div/div[3]/div[2]/div/div[2]/a[7]\").click()\n",
    "\n",
    "#         if j <= 10: \n",
    "#             if j % 10 == 0: driver.find_element(By.XPATH, '//*[@id=\"dgn_btn_paging\"]/a[' + str(10) + ']').click()\n",
    "#             else: driver.find_element(By.XPATH, '//*[@id=\"dgn_btn_paging\"]/a[' + str(j % 10) + ']').click()\n",
    "#         else:\n",
    "#             if j % 10 == 0: driver.find_element(By.XPATH, '//*[@id=\"dgn_btn_paging\"]/a[' + str(12) + ']').click()\n",
    "#             else: driver.find_element(By.XPATH, '//*[@id=\"dgn_btn_paging\"]/a[' + str(j % 10 + 2) + ']').click()\n",
    "\n",
    "#         time.sleep(random.uniform(1,3))   # 1~3초 사이 랜덤한 시간 쉼\n",
    "    \n",
    "    #filename = \"analysis_bobae_\"+ politician + \".xlsx\"\n",
    "    #wb.save(filename)\n",
    "    f.close() "
   ]
  },
  {
   "cell_type": "code",
   "execution_count": 5,
   "id": "b08646bb-52b4-4e38-9db9-9ecaf2ccd30c",
   "metadata": {},
   "outputs": [
    {
     "name": "stdout",
     "output_type": "stream",
     "text": [
      "end\n"
     ]
    }
   ],
   "source": [
    "print(\"end\")"
   ]
  },
  {
   "cell_type": "code",
   "execution_count": null,
   "id": "08206423-634f-4fca-8dde-7e7fcea2ef4f",
   "metadata": {},
   "outputs": [],
   "source": []
  }
 ],
 "metadata": {
  "kernelspec": {
   "display_name": "sns-selenium",
   "language": "python",
   "name": "conda"
  },
  "language_info": {
   "codemirror_mode": {
    "name": "ipython",
    "version": 3
   },
   "file_extension": ".py",
   "mimetype": "text/x-python",
   "name": "python",
   "nbconvert_exporter": "python",
   "pygments_lexer": "ipython3",
   "version": "3.10.4"
  }
 },
 "nbformat": 4,
 "nbformat_minor": 5
}
